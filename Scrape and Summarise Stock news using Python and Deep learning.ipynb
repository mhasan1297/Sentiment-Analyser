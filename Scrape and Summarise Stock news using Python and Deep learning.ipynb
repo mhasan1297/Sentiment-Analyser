{
 "cells": [
  {
   "cell_type": "markdown",
   "id": "c36fcb46-2d93-4863-8e72-ff4bd1771e28",
   "metadata": {},
   "source": [
    "#### 1. Install and Import Baseline Dependencies"
   ]
  },
  {
   "cell_type": "code",
   "execution_count": 1,
   "id": "279e3f99-3ff8-40b9-8620-0e9276fff164",
   "metadata": {},
   "outputs": [
    {
     "name": "stderr",
     "output_type": "stream",
     "text": [
      "C:\\Users\\User\\AppData\\Local\\Programs\\Python\\Python38\\lib\\site-packages\\tqdm\\auto.py:21: TqdmWarning: IProgress not found. Please update jupyter and ipywidgets. See https://ipywidgets.readthedocs.io/en/stable/user_install.html\n",
      "  from .autonotebook import tqdm as notebook_tqdm\n"
     ]
    }
   ],
   "source": [
    "from transformers import PegasusTokenizer, PegasusForConditionalGeneration\n",
    "from bs4 import BeautifulSoup\n",
    "import requests"
   ]
  },
  {
   "cell_type": "markdown",
   "id": "a7fa31a7-38c6-4977-b306-f0b22e910190",
   "metadata": {},
   "source": [
    "#### 2. Setup Summarisation Model"
   ]
  },
  {
   "cell_type": "code",
   "execution_count": 2,
   "id": "eaded914-fdc5-4f76-b54e-2e1278809011",
   "metadata": {},
   "outputs": [
    {
     "name": "stderr",
     "output_type": "stream",
     "text": [
      "Some weights of PegasusForConditionalGeneration were not initialized from the model checkpoint at human-centered-summarization/financial-summarization-pegasus and are newly initialized: ['model.encoder.embed_positions.weight', 'model.decoder.embed_positions.weight']\n",
      "You should probably TRAIN this model on a down-stream task to be able to use it for predictions and inference.\n"
     ]
    }
   ],
   "source": [
    "model_name = \"human-centered-summarization/financial-summarization-pegasus\" # Summarisation Model Downloaded \n",
    "tokenizer = PegasusTokenizer.from_pretrained(model_name) # De Coder\n",
    "model = PegasusForConditionalGeneration.from_pretrained(model_name) # Summarise code ID"
   ]
  },
  {
   "cell_type": "markdown",
   "id": "adfaa036-0523-4419-81eb-6df210bd207a",
   "metadata": {},
   "source": [
    "#### 3. Summarise a Single Article"
   ]
  },
  {
   "cell_type": "code",
   "execution_count": 3,
   "id": "bf227b34-7c7c-40ae-8267-feb585446bc5",
   "metadata": {},
   "outputs": [],
   "source": [
    "url = \"https://au.finance.yahoo.com/news/china-restricting-tesla-use-uncovers-a-significant-challenge-for-elon-musk-expert-161921664.html\"\n",
    "headers={'User-Agent': 'Mozilla/5.0 (Windows NT 10.0; Win64; x64) AppleWebKit/537.36 (KHTML, like Gecko) Chrome/71.0.3578.98 Safari/537.36'}\n",
    "r = requests.get(url, headers=headers)\n",
    "soup = BeautifulSoup(r.text, 'html.parser')\n",
    "paragraphs = soup.find_all('p') # Find all paragraphs"
   ]
  },
  {
   "cell_type": "code",
   "execution_count": 4,
   "id": "183d38b3-f283-46a6-acda-015384a71c10",
   "metadata": {},
   "outputs": [
    {
     "data": {
      "text/plain": [
       "'Renewed political tensions between the U.S. and China — which came to light this week as the Biden administration sat down with their Chinese counterparts for the first time to discuss a range of issues — could ensnarl vehicle maker Tesla (TSLA), which has pushed successfully into China in recent years.'"
      ]
     },
     "execution_count": 4,
     "metadata": {},
     "output_type": "execute_result"
    }
   ],
   "source": [
    "paragraphs[0].text"
   ]
  },
  {
   "cell_type": "code",
   "execution_count": 5,
   "id": "addbed95-ea76-47ce-a249-7666e1e6f917",
   "metadata": {},
   "outputs": [],
   "source": [
    "text = [paragraph.text for paragraph in paragraphs] # Strip the whole article to text format\n",
    "words = ' '.join(text).split(' ')[:400] #First 400 words, current limit on summarisation model.\n",
    "ARTICLE = ' '.join(words) # Join the 400 words back to make a shorter article"
   ]
  },
  {
   "cell_type": "code",
   "execution_count": 6,
   "id": "3907c10a-4281-4654-a4da-2b2dd4918079",
   "metadata": {},
   "outputs": [
    {
     "data": {
      "text/plain": [
       "'Renewed political tensions between the U.S. and China — which came to light this week as the Biden administration sat down with their Chinese counterparts for the first time to discuss a range of issues — could ensnarl vehicle maker Tesla (TSLA), which has pushed successfully into China in recent years. In fact, the heightened rhetoric between the two super economic superpowers may have already had blowback on Elon Musk\\'s electric car company. The Chinese government is restricting the use of Tesla vehicles by military staff and employees of vital state-owned companies, The Wall Street Journal reported Friday. Chinese officials reportedly have concerns that Tesla\\'s cars — outfitted with various data collecting capabilities — could serve as leakers of national security secrets. \"I have been saying for months now that Tesla\\'s level of integration of their business, of their research, of their sort of geo-tracking for which there is integration with Chinese maps, their development of A.I. with Chinese firms, and electric battery technology that\\'s not sustainable in China given the trajectory [on policy] that we are now on,\" policy expert and Eurasia Group founder Ian Bremmer said on Yahoo Finance Live. \"Most American A.I. and technology companies are seen as critical for national security, they don\\'t have access in China — companies like Amazon, Google and Facebook. Tesla is the outlier.\" That outlier status has made China an incredibly important market for Tesla, and a key part of the investment thesis in the stock. Tesla\\'s sales in China clocked in at $6.66 billion in 2020, up 123% from a year earlier powered by strength in the Model 3. The business made up about 21% of Tesla\\'s overall 2020 sales. Tesla began deliveries of its China-made Model Y to Chinese consumers earlier this year. Bremmer warns Tesla now has a challenging road ahead in China in light of the recent development by the military. Musk\\'s response to the Chinese actions are important for investors to watch, suggests Bremmer. \"At a moment of some white knuckle tensions between the U.S. and China, Musk & Co. find themselves in a unique position (along with Apple) of being caught in the crossfire,\" Wedbush tech analyst Dan Ives said. Tesla shares fell about 2% on the report, as investors pondered if China will take a harder line on Tesla\\'s sales to consumers. \"One thing we know about Elon Musk is that he is not'"
      ]
     },
     "execution_count": 6,
     "metadata": {},
     "output_type": "execute_result"
    }
   ],
   "source": [
    "ARTICLE"
   ]
  },
  {
   "cell_type": "code",
   "execution_count": 7,
   "id": "3b0e5f01-1890-4e7e-bd54-c51458be9038",
   "metadata": {},
   "outputs": [],
   "source": [
    "input_ids = tokenizer.encode(ARTICLE, return_tensors='pt') # En coding aricle to tensorflow ID's\n",
    "output = model.generate(input_ids, max_length=55, num_beams=5, early_stopping=True) # Generate the summary\n",
    "summary = tokenizer.decode(output[0], skip_special_tokens=True) # De code the summary back to text format"
   ]
  },
  {
   "cell_type": "code",
   "execution_count": 8,
   "id": "05c577b9-c7cb-419c-9e66-38b2261141e7",
   "metadata": {},
   "outputs": [
    {
     "data": {
      "text/plain": [
       "'China restricting use of electric cars by military. Tesla has been successful in China in recent years'"
      ]
     },
     "execution_count": 8,
     "metadata": {},
     "output_type": "execute_result"
    }
   ],
   "source": [
    "summary"
   ]
  },
  {
   "cell_type": "markdown",
   "id": "6f2853bd-0d4b-4ab2-9970-1eef6464157d",
   "metadata": {},
   "source": [
    "#### 4. Building a News and Sentiment Pipeline"
   ]
  },
  {
   "cell_type": "code",
   "execution_count": 9,
   "id": "6bdd130a-8594-463b-ac2d-490ae29c53d9",
   "metadata": {},
   "outputs": [],
   "source": [
    "monitored_tickers = ['GME', 'TSLA', 'AAPL']"
   ]
  },
  {
   "cell_type": "markdown",
   "id": "1972be62-61ec-4c7a-a0c4-f22f14c9e5ae",
   "metadata": {},
   "source": [
    "#### 4.1. Search for Stock News using Google and Yahoo Finance"
   ]
  },
  {
   "cell_type": "code",
   "execution_count": 10,
   "id": "44b14821-91dc-4e50-a330-7c8f1eb380d4",
   "metadata": {},
   "outputs": [],
   "source": [
    "import re"
   ]
  },
  {
   "cell_type": "code",
   "execution_count": 11,
   "id": "632698fe-cad3-4651-9d40-936ad71a7e71",
   "metadata": {},
   "outputs": [],
   "source": [
    "def search_for_stock_news_urls(ticker):\n",
    "    search_url = f\"https://finance.yahoo.com/quote/{ticker}/news?p={ticker}\"\n",
    "    headers={'User-Agent': 'Mozilla/5.0 (Windows NT 10.0; Win64; x64) AppleWebKit/537.36 (KHTML, like Gecko) Chrome/71.0.3578.98 Safari/537.36'}\n",
    "    r = requests.get(search_url, headers=headers)\n",
    "    soup = BeautifulSoup(r.text, 'html.parser')\n",
    "    atags = soup.find_all('a')\n",
    "    hrefs = [link['href'] for link in atags]\n",
    "\n",
    "    # Strip out unwanted URLs\n",
    "    pattern = re.compile(r'(/news/|/video/|/m/).*\\.html')\n",
    "\n",
    "    # Extract and print the matched URLs with the desired prefix\n",
    "    filtered_urls = [f'https://finance.yahoo.com{url}' for url in hrefs if pattern.match(url)]\n",
    "    return filtered_urls"
   ]
  },
  {
   "cell_type": "code",
   "execution_count": 12,
   "id": "c09e8fcc-cd45-42c9-8c53-4bf64ca420b7",
   "metadata": {},
   "outputs": [
    {
     "data": {
      "text/plain": [
       "['https://finance.yahoo.com/news/elon-musks-x-sideshow-is-subtly-hurting-tesla-110444713.html',\n",
       " 'https://finance.yahoo.com/news/dow-trails-sp-500-by-most-since-2000-183654520.html',\n",
       " 'https://finance.yahoo.com/m/46633595-f02d-3ed2-8dad-1b363e31c1a1/tesla-lower-as-bernstein.html']"
      ]
     },
     "execution_count": 12,
     "metadata": {},
     "output_type": "execute_result"
    }
   ],
   "source": [
    "search_for_stock_news_urls('TSLA')"
   ]
  },
  {
   "cell_type": "markdown",
   "id": "709258b1-ea42-42bc-90ae-93f85c7f7d3d",
   "metadata": {},
   "source": [
    "#### 4.2. Search and Scrape Cleaned URLs"
   ]
  },
  {
   "cell_type": "code",
   "execution_count": 13,
   "id": "25421955-bdf2-4da6-81e5-a06989eab84c",
   "metadata": {},
   "outputs": [],
   "source": [
    "cleaned_urls = {ticker: search_for_stock_news_urls(ticker) for ticker in monitored_tickers}"
   ]
  },
  {
   "cell_type": "code",
   "execution_count": 14,
   "id": "5f9dcf4c-2a90-4e44-9a10-fd3e18af56bb",
   "metadata": {},
   "outputs": [],
   "source": [
    "def scrape_and_process(URLs):\n",
    "    ARTICLES = []\n",
    "    for url in URLs: \n",
    "        r = requests.get(url)\n",
    "        soup = BeautifulSoup(r.text, 'html.parser')\n",
    "        paragraphs = soup.find_all('p')\n",
    "        text = [paragraph.text for paragraph in paragraphs]\n",
    "        words = ' '.join(text).split(' ')[:350]\n",
    "        ARTICLE = ' '.join(words)\n",
    "        ARTICLES.append(ARTICLE)\n",
    "    return ARTICLES"
   ]
  },
  {
   "cell_type": "code",
   "execution_count": 15,
   "id": "2b2deb84-900f-4b53-aa10-93164fba6afa",
   "metadata": {},
   "outputs": [
    {
     "data": {
      "text/plain": [
       "{'GME': ['On December 6th, GameStop Corporation (NYSE: GME) missed revenue expectations but topped earnings estimates with its fiscal third quarter results as it continues to face intense competition from even the e-commerce titan, Amazon.com Inc (NASDAQ: AMZN), and other mass merchants to which it\\xa0is losing market share. But once investors digested the results, GameStop shares\\xa0shrugged\\xa0off early declines. For the quarter ended on October 28th, GameStop reported revenue dropped 9% YoY of\\xa0$1.078\\xa0billion, coming short of analysts’ estimate of\\xa0$1.186 billion. GameStop reported a\\xa0net loss of $3.1 million, or 1 cent a share, improving from last year’s comparable quarter when net loss amounted to $94.7 million, or 31 cents a share. On an adjusted-per-share basis, GameStop broke even, which is better than the 8 cent loss that\\xa0FactSet\\xa0estimated. But, this achievement is mainly the result of\\xa0aggressive cost cuts, including European store closures and lowered selling, general and administrative expenses by\\xa023.6%\\xa0YoY to\\xa0$296.5 million. Gross profit for the quarter\\xa0was down 3.4% YoY to\\xa0$282 million. While net sales in Europe expanded\\xa012.8%\\xa0due to eased supply constraints,\\xa0net sales in Australia, the U.S. and Canada\\xa0dropped\\xa0by 16.8%, 13.3% and 9.7%, respectively. GameStop\\xa0exited the quarter with cash and cash equivalents of $1.210 billion, compared with $1.195 billion at the end of the prior quarter.\\xa0GameStop did not schedule a conference call and it doesn’t provide any guidance. Along with its quarterly report, GameStop announced two corporate investment plan changes. First is that as of now, company cash\\xa0can be used\\xa0used to buy equities instead of\\xa0only\\xa0short-term debt,\\xa0along with the CEO\\xa0Ryan\\xa0Cohen\\xa0now being\\xa0in charge\\xa0of directing investment activities. Cohen became CEO in September while he joined the board. in 2021. Although Cohen’s e-commerce background gave hope that he could modernize the video game-retailer, GameStop never released a detailed turnaround plan. Wherever\\xa0GameStop seeks to\\xa0grow, Amazon is already there. Undoubtably, the fundamentals are overwhelmingly in\\xa0the favor of\\xa0Amazon. Although Amazon is still Amazon, GameStop is putting up a fight, even in the face of challenging competitors. But, it will need to go beyond\\xa0cost-savings on its quest for profitability\\xa0to stay in the game. But, first, it needs to adjust to Cohen’s leadership after weathering quite an executive shakeup. DISCLAIMER: This content is for',\n",
       "  'GameStop missed revenue estimates for the third quarter as sales declined in three of its four global markets, but it reported cutting expenses.',\n",
       "  'GameStop shares [(GME)](https://www.wsj.com/market-data/quotes/GME) rose, shrugging off early declines, as investors digested quarterly results that included a 9% drop in quarterly sales and narrowing losses.',\n",
       "  'Alphabet rises after Google’s launch of Gemini, its most advanced artificial intelligence software model.',\n",
       "  'GameStop Corp. GME posted mixed third-quarter fiscal 2023 results, delivering breakeven earnings per share and lower-than-expected revenues. While the top line declined year over year, the bottom line compared favorably with the year-ago quarter’s reported figure. Higher inflationary pressures on consumers’ spending in the gaming industry have been resulting in lower demand and in turn, weighing on the company’s results.The video game retailer’s shares have fallen around 6% during after-hours trading on Dec 6, on soft sales results. Shares of this Zacks Rank #3 (Hold) company have fallen 14.3% in the past three months compared with the industry’s 2.3% drop. GameStop posted breakeven earnings per share in third-quarter fiscal 2023 compared with the Zacks Consensus Estimate of a loss of 12 cents per share. The company had incurred an adjusted loss per share of 31 cents in the prior year quarter.GME reported net sales of $1,078 million, which missed the consensus estimate of $1,159 million. Also, the metric decreased 9.1% from $1,186.4 million reported in the year-ago fiscal quarter. Lower sales across all the categories contributed to soft sales. Image Source: Zacks Investment Research By sales mix, hardware and accessories sales fell to $579.4 million from $627 million reported in the year-ago quarter. Software sales were $321.3 million, down from $352.1 million in the year-ago quarter. Sales in the collectibles unit amounted to $177.6 million compared with $207.3 million reported in the year-ago quarter. Gross profit decreased to $281.8 million from $291.6 million in the year-ago fiscal quarter. Adjusted selling, general and administrative (SG&A) expenses declined to $294.9 million from $386.6 million reported in the year-ago quarter. As a percentage of net sales, SG&A expenses were 27.5%, down from 32.7% reported in the year-ago period.The company’s adjusted operating loss was $13.1 million in the reported quarter. It had reported an adjusted operating loss of $95 million in the prior-year fiscal period. Adjusted EBITDA was $5.1 million against an adjusted EBITDA loss of $66.6 million in the prior-year quarter. GameStop ended the third quarter with cash and cash equivalents of $909 million, net long-term debt of $20 million and stockholders’ equity'],\n",
       " 'TSLA': ['This is The Takeaway from today\\'s Morning Brief, which you can sign up to receive in your inbox every morning along with: The chart of the day What we\\'re watching What we\\'re reading Economic data releases and earnings When the multi-CEO Elon Musk curses out advertisers in a retaliatory defense of his company X, the public market shrugs. Thursday, after going after Disney CEO Bob Iger yet again, this time calling for his firing, Tesla stock is up 1.3%. Musk\\'s dramatic takeover of Twitter, his turbulent management of X, and his inflammatory public remarks on world affairs in recent weeks have generated waves of distractions for his nearly $800 billion electric vehicle company, Tesla. And despite his inflammatory comments, Tesla is humming along. The stock\\'s robust performance — shares doubled in value so far this year — highlights one of Musk\\'s peculiar powers as a polarizing public figure. He can draw widespread criticism, even from some of his most outspoken boosters, but Tesla seemingly remains resilient. Part of the reason is because investors view the company as much more than an automaker. To its most optimistic backers, as former Publicis chief strategist Rishad Tobaccowala put it, it\\'s more like a next-generation energy company and a long play on the future of the grid and AI. But none of this means that there aren\\'t consequences to the fallout from Musk\\'s headline-grabbing interview at the New York Times (NYT) DealBook conference last month. They\\'re just not always immediately visible. One way to see these consequences is to think what would happen if Musk logged off X and focused on Tesla. \"I really think it\\'s unfortunate that his investment with X is such a conflict of interest for Tesla shareholders,\" Ross Gerber, a longtime Tesla bull and head of Gerber Kawasaki Wealth and Investment Management, told Yahoo Finance Live. \"But there\\'s no doubt in my mind that it\\'s hurting Tesla.\" Gerber, whose company owns almost 400,000 shares of Tesla, equivalent to roughly $100 million, said Musk\\'s behavior is affecting people\\'s purchasing decisions. The company has lowered prices, and is offering customers deals on',\n",
       "  'The Dow Jones Industrial Average (DJI) hasn\\'t fallen this far behind the S&P 500 (GSPC) in a given year since the dot-com bubble, according to new research from DataTrek. The Dow is up just shy of 9% this year. The benchmark S&P 500 has doubled that, rising almost 19%. The difference is the most it\\'s been since 2000. As with most things that have underperformed the S&P 500 during 2023, the difference has been exposure to the \"Magnificent Seven\" tech stocks — Apple (AAPL), Alphabet (GOOGL, GOOG), Microsoft (MSFT), Amazon (AMZN), Meta (META), Tesla (TSLA), and Nvidia (NVDA). Just two of those companies, Apple and Microsoft, are in the Dow. The index has a less than 20% exposure to the information technology sector. The S&P 500, meanwhile, is 40% technology stocks, including all of the Magnificent Seven. \"The S&P’s outsized weighting in tech has enabled it to outperform as they have all the key ingredients to do so: global, scalable businesses that dominate their respective industries,\" DataTrek\\'s co-founders Nicholas Colas and Jessica Rabe wrote in a new research note on Wednesday night. \"They are also enablers of the \\'next big thing\\' relative to gen AI. The power of disruptive innovation is a structural trend that is unlikely to reverse course.\" A chart recently released by Goldman Sachs exemplified how the Magnificent Seven have helped drive the S&P 500\\'s performance this year. Interestingly, the last time the Dow lagged the S&P 500 by this much it was actually a bullish sign for the index, which outperformed the S&P 500 in 2001 and saw more upside when the market turned around in 2003. This also played out recently in the fallout from the 2020-2021 tech surge, which was followed by Dow outperformance in 2022. To the DataTrek team, whether history will repeat itself hinges on a call surrounding tech stocks. The outperformance could indicate investors are over-extended in tech stocks, and some of the Dow\\'s components will catch a bid as investors flow out of the names that led in 2023. Or it could mean tech has just become so dominant that',\n",
       "  'Fading demand, likely price cuts and narrowing margins will weigh heavily on Tesla stock next year, argues Bernstein analyst Toni Sacconaghi.'],\n",
       " 'AAPL': ['Thank you for your patience. Our engineers are working quickly to resolve the issue.',\n",
       "  'The Dow Jones Industrial Average (DJI) hasn\\'t fallen this far behind the S&P 500 (GSPC) in a given year since the dot-com bubble, according to new research from DataTrek. The Dow is up just shy of 9% this year. The benchmark S&P 500 has doubled that, rising almost 19%. The difference is the most it\\'s been since 2000. As with most things that have underperformed the S&P 500 during 2023, the difference has been exposure to the \"Magnificent Seven\" tech stocks — Apple (AAPL), Alphabet (GOOGL, GOOG), Microsoft (MSFT), Amazon (AMZN), Meta (META), Tesla (TSLA), and Nvidia (NVDA). Just two of those companies, Apple and Microsoft, are in the Dow. The index has a less than 20% exposure to the information technology sector. The S&P 500, meanwhile, is 40% technology stocks, including all of the Magnificent Seven. \"The S&P’s outsized weighting in tech has enabled it to outperform as they have all the key ingredients to do so: global, scalable businesses that dominate their respective industries,\" DataTrek\\'s co-founders Nicholas Colas and Jessica Rabe wrote in a new research note on Wednesday night. \"They are also enablers of the \\'next big thing\\' relative to gen AI. The power of disruptive innovation is a structural trend that is unlikely to reverse course.\" A chart recently released by Goldman Sachs exemplified how the Magnificent Seven have helped drive the S&P 500\\'s performance this year. Interestingly, the last time the Dow lagged the S&P 500 by this much it was actually a bullish sign for the index, which outperformed the S&P 500 in 2001 and saw more upside when the market turned around in 2003. This also played out recently in the fallout from the 2020-2021 tech surge, which was followed by Dow outperformance in 2022. To the DataTrek team, whether history will repeat itself hinges on a call surrounding tech stocks. The outperformance could indicate investors are over-extended in tech stocks, and some of the Dow\\'s components will catch a bid as investors flow out of the names that led in 2023. Or it could mean tech has just become so dominant that',\n",
       "  'If it feels like cyberattacks are becoming more frequent, it’s because they are. According to a new report by MIT professor Stuart Madnick, there were more ransomware attacks reported in the first nine months of 2023 than all of 2022. The report, which was funded by Apple (AAPL), but written independently by Madnick, points to a stark increase in cyberattacks, impacting as many as 360 million people through August. One reason for the jump, according to Madnick, is that ransomware groups are becoming more organized, operating as gangs and targeting organizations with critical user data such as government and healthcare facilities. The other cause for the jump, Madnick says, is that cybercriminals are increasingly using secondary vendors to gain access to their main targets. “In today’s interconnected world, virtually every organization relies on a wide range of vendors and software,” Madnick wrote. “As a result, hackers only need to exploit vulnerabilities in third-party software or a vendor’s system to gain access to the data stored by every organization that relies on that vendor.” Some 98% of business and government groups work in some capacity with a company that’s been hit by cybercriminals in the past year. The number of attacks is staggering. According to the study, 2.6 billion personal records were breached in 2021 and 2022, and 1 in 4 people had their health records exposed in the first three quarters of this year. Ransomware attacks against hospitals in particular can be dangerous, as they limit access to patient records and can force healthcare providers to divert potential patients to other hospitals. Attacks on hospitals ramped up significantly during the pandemic, and continue to wreak havoc across the US. According to a CBS News report, 299 hospitals have been hit with ransomware in 2023 as of the end of November. Madnick also points to a number of large-scale hacks in previous months, including 23andMe (ME), which gave notice for its breach in October; Discord, which was hacked in August; and Microsoft (MSFT), which took hits to its Outlook and Exchange platforms. Generative AI is also making phishing and ransomware attacks',\n",
       "  'In this article, we will take a look at the 11 cash-rich stocks to buy according to hedge funds. To skip our analysis of the recent trends, and market activity, you can go directly to see the 5 Cash-Rich Stocks to Buy According to Hedge Funds. The top 75 non-banking stocks, based on their cash reserves, listed on major United States stock exchanges, held an aggregate of nearly $2.0 trillion of cash and equivalents and short-term investments on their balance sheet according to their latest publicly available financial results. Technology sector companies, and ecommerce companies combined accounted for the biggest share of this cash pile with reserves of nearly $858 billion. Out of these 75 companies, the 11 cash-rich stocks to buy according to hedge funds are sticking on a cash and short-term investments pile of a whopping $707 billion, more than the annual GDP of the majority of nations worldwide. This raises the question: why do companies carry so much cash? There are several factors that come into play when we look into ‘cash-hoarding’ tendencies of large (and small) corporations. Companies like to maintain a cash (and liquid assets) buffer to allow them to maneuver effectively, especially in times of economic uncertainty as available balances allow them to hold of layoffs or other similar measures in case of adversity. Companies looking for expansion, either organically through investments in R&D etc., or through merger & acquisition activities, have greater flexibility to manage the market conditions. A prime example is Microsoft Corporation’s (NASDAQ:MSFT) recent acquisition of video game company, Activision Blizzard, Inc., completed in October, for a cash payment of $61.8 billion, net of cash acquired. A cash pile of nearly $144 billion as of September 30 enabled Microsoft Corporation (NASDAQ:MSFT) to pay the price from its own coffers. Most of the companies on our list are working on different programs to return cash to their shareholders. For instance, in addition to the massive acquisition, Microsoft Corporation (NASDAQ:MSFT) pays a regular quarterly dividend. The company also launched a share repurchase program in November 2021 with the authorization to repurchase $60 billion',\n",
       "  'ClariVest Asset Management, LLC, an affiliate of\\xa0Carillon Tower Advisers, Inc., released the “Carillon Clarivest Capital Appreciation Fund” third quarter 2023 investor letter. A copy of the same can be\\xa0downloaded here. The third quarter of 2023 began strongly in July, but the equity markets were unable to withstand the ongoing upward momentum in interest rates, and many indexes ended the quarter in the negative. When compared to the Russell 1000 Growth Index at the beginning of the quarter, the fund was most underweight in communication and consumer discretionary services and most overweight in the information technology and healthcare sectors. By the end of the quarter, the portfolio remained the most underweight consumer discretionary and consumer staples and most overweight information technology and healthcare. In addition, please check the fund’s top five holdings to know its best picks in 2023. Carillon Clarivest Capital Appreciation Fund highlighted stocks like Apple Inc. (NASDAQ:AAPL) in the third quarter 2023 investor letter. Headquartered in Cupertino, California, Apple Inc. (NASDAQ:AAPL) is a multinational technology company that designs and manufactures smartphones, personal computers, tablets, wearables, and accessories. On December 7, 2023, Apple Inc. (NASDAQ:AAPL) stock closed at $194.27 per share. One-month return of Apple Inc. (NASDAQ:AAPL) was 4.22%, and its shares gained 36.66% of their value over the last 52 weeks. Apple Inc. (NASDAQ:AAPL) has a market capitalization of $ 3.021 trillion. Carillon Clarivest Capital Appreciation Fund made the following comment about Apple Inc. (NASDAQ:AAPL) in its Q3 2023 investor letter: \"Apple Inc. (NASDAQ:AAPL) designs, manufactures and markets mobile communication devices, personal computers and media devices. Shares fell following a report that Chinese government agencies have barred staff from using Apple products at work because of security concerns.\" Pixabay/Public Domain Apple Inc. (NASDAQ:AAPL) is in 8th position on our list of\\xa030 Most Popular Stocks Among Hedge Funds. As per our database, 134 hedge fund portfolios held Apple Inc. (NASDAQ:AAPL) at the end of third quarter which was 135 in the previous quarter. We discussed Apple Inc. (NASDAQ:AAPL) in\\xa0another article and shared Cliff Asness\\' top stock picks. In addition, please check out our hedge fund investor letters Q3 2023\\xa0page']}"
      ]
     },
     "execution_count": 15,
     "metadata": {},
     "output_type": "execute_result"
    }
   ],
   "source": [
    "articles = {ticker:scrape_and_process(cleaned_urls[ticker]) for ticker in monitored_tickers}\n",
    "articles"
   ]
  },
  {
   "cell_type": "markdown",
   "id": "d5f43ab4-fc50-426e-9d58-d010cda464c0",
   "metadata": {},
   "source": [
    "#### 4.3. Summarise all Articles"
   ]
  },
  {
   "cell_type": "code",
   "execution_count": 16,
   "id": "6b3a2a6b-8b15-4cda-867d-f8c668367ca3",
   "metadata": {},
   "outputs": [],
   "source": [
    "def summarize(articles):\n",
    "    summaries = []\n",
    "    for article in articles:\n",
    "        input_ids = tokenizer.encode(article, return_tensors='pt')\n",
    "        output = model.generate(input_ids, max_length=55, num_beams=5, early_stopping=True)\n",
    "        summary = tokenizer.decode(output[0], skip_special_tokens=True)\n",
    "        summaries.append(summary)\n",
    "    return summaries"
   ]
  },
  {
   "cell_type": "code",
   "execution_count": 17,
   "id": "e760eb5e-9f4b-449a-a895-6fe4742448d0",
   "metadata": {},
   "outputs": [
    {
     "data": {
      "text/plain": [
       "{'GME': ['Video game retailer continues to face intense competition. Company announced two corporate investment plan changes',\n",
       "  'Video game retailer says cost-cutting measures are paying off.',\n",
       "  'Video-game retailer reported a smaller-than-expected loss.',\n",
       "  'Gemini is Google’s most advanced artificial intelligence model.',\n",
       "  'Higher inflationary pressures on consumers’ spending have weighed on the company. Soft sales weighed on the company’s results'],\n",
       " 'TSLA': ['Musk calls for Disney CEO to be fired. Tesla shares are up more than 20% this year',\n",
       "  'The Dow is up just shy of 9% this year, while the S&P 500 is up 19%. History suggests investors are over-extended in tech stocks',\n",
       "  'Shares set to fall as much as 20% on weak demand.'],\n",
       " 'AAPL': ['We are aware of the issue and are working to resolve it.',\n",
       "  'The Dow is up just shy of 9% this year, while the S&P 500 is up 19%. History suggests investors are over-extended in tech stocks',\n",
       "  'Study points to rise in ransomware attacks as gangs become more organized. More than 360 million people were affected by attacks in first nine months',\n",
       "  'Top 75 non-banking stocks held an aggregate of nearly $2.0 trillion. Technology sector companies, and ecommerce companies accounted for biggest share of cash pile',\n",
       "  'Carillon Clarivest Capital Appreciation Fund was most underweight in communication and consumer discretionary services.']}"
      ]
     },
     "execution_count": 17,
     "metadata": {},
     "output_type": "execute_result"
    }
   ],
   "source": [
    "summaries = {ticker:summarize(articles[ticker]) for ticker in monitored_tickers}\n",
    "summaries"
   ]
  },
  {
   "cell_type": "code",
   "execution_count": 18,
   "id": "e43d6151-389b-4b2a-92c2-f3d70a5ffb9a",
   "metadata": {},
   "outputs": [
    {
     "data": {
      "text/plain": [
       "['Musk calls for Disney CEO to be fired. Tesla shares are up more than 20% this year',\n",
       " 'The Dow is up just shy of 9% this year, while the S&P 500 is up 19%. History suggests investors are over-extended in tech stocks',\n",
       " 'Shares set to fall as much as 20% on weak demand.']"
      ]
     },
     "execution_count": 18,
     "metadata": {},
     "output_type": "execute_result"
    }
   ],
   "source": [
    "summaries['TSLA']"
   ]
  },
  {
   "cell_type": "markdown",
   "id": "b4cde37b-de43-4054-aefc-80c6787653fb",
   "metadata": {},
   "source": [
    "#### 5. Adding Sentiment Analysis"
   ]
  },
  {
   "cell_type": "code",
   "execution_count": 19,
   "id": "ffa48cac-ebcc-4073-b72a-eee9c26e2a4b",
   "metadata": {},
   "outputs": [
    {
     "name": "stderr",
     "output_type": "stream",
     "text": [
      "No model was supplied, defaulted to distilbert-base-uncased-finetuned-sst-2-english and revision af0f99b (https://huggingface.co/distilbert-base-uncased-finetuned-sst-2-english).\n",
      "Using a pipeline without specifying a model name and revision in production is not recommended.\n"
     ]
    }
   ],
   "source": [
    "from transformers import pipeline\n",
    "sentiment = pipeline('sentiment-analysis')"
   ]
  },
  {
   "cell_type": "code",
   "execution_count": 20,
   "id": "cd566660-b804-4792-8c70-dd527301b9c5",
   "metadata": {},
   "outputs": [
    {
     "data": {
      "text/plain": [
       "[{'label': 'NEGATIVE', 'score': 0.685401439666748},\n",
       " {'label': 'NEGATIVE', 'score': 0.9975034594535828},\n",
       " {'label': 'NEGATIVE', 'score': 0.9996259212493896}]"
      ]
     },
     "execution_count": 20,
     "metadata": {},
     "output_type": "execute_result"
    }
   ],
   "source": [
    "sentiment(summaries['TSLA'])"
   ]
  },
  {
   "cell_type": "code",
   "execution_count": 21,
   "id": "1b9c239f-76a7-4214-8fe7-43f04e882158",
   "metadata": {},
   "outputs": [
    {
     "data": {
      "text/plain": [
       "{'GME': [{'label': 'POSITIVE', 'score': 0.8374872207641602},\n",
       "  {'label': 'NEGATIVE', 'score': 0.8295697569847107},\n",
       "  {'label': 'NEGATIVE', 'score': 0.999704897403717},\n",
       "  {'label': 'POSITIVE', 'score': 0.9962210655212402},\n",
       "  {'label': 'NEGATIVE', 'score': 0.9859585165977478}],\n",
       " 'TSLA': [{'label': 'NEGATIVE', 'score': 0.685401439666748},\n",
       "  {'label': 'NEGATIVE', 'score': 0.9975034594535828},\n",
       "  {'label': 'NEGATIVE', 'score': 0.9996259212493896}],\n",
       " 'AAPL': [{'label': 'POSITIVE', 'score': 0.9979088306427002},\n",
       "  {'label': 'NEGATIVE', 'score': 0.9975034594535828},\n",
       "  {'label': 'NEGATIVE', 'score': 0.9773145318031311},\n",
       "  {'label': 'NEGATIVE', 'score': 0.9287741184234619},\n",
       "  {'label': 'NEGATIVE', 'score': 0.9976041913032532}]}"
      ]
     },
     "execution_count": 21,
     "metadata": {},
     "output_type": "execute_result"
    }
   ],
   "source": [
    "scores = {ticker:sentiment(summaries[ticker]) for ticker in monitored_tickers}\n",
    "scores"
   ]
  },
  {
   "cell_type": "code",
   "execution_count": 22,
   "id": "192c9de3-8938-440f-b99e-a20c0e427392",
   "metadata": {},
   "outputs": [
    {
     "name": "stdout",
     "output_type": "stream",
     "text": [
      "Carillon Clarivest Capital Appreciation Fund was most underweight in communication and consumer discretionary services. NEGATIVE 0.9976041913032532\n"
     ]
    }
   ],
   "source": [
    "print(summaries['AAPL'][4], scores['AAPL'][4]['label'], scores['AAPL'][4]['score'])"
   ]
  },
  {
   "cell_type": "markdown",
   "id": "f0dd181c-d581-41d8-8940-1bc870c92f9f",
   "metadata": {},
   "source": [
    "#### 6. Exporting Results to CSV"
   ]
  },
  {
   "cell_type": "code",
   "execution_count": 23,
   "id": "22a7d9ce-920f-47cf-89fb-bc99202fd63f",
   "metadata": {},
   "outputs": [
    {
     "data": {
      "text/plain": [
       "{'GME': ['Video game retailer continues to face intense competition. Company announced two corporate investment plan changes',\n",
       "  'Video game retailer says cost-cutting measures are paying off.',\n",
       "  'Video-game retailer reported a smaller-than-expected loss.',\n",
       "  'Gemini is Google’s most advanced artificial intelligence model.',\n",
       "  'Higher inflationary pressures on consumers’ spending have weighed on the company. Soft sales weighed on the company’s results'],\n",
       " 'TSLA': ['Musk calls for Disney CEO to be fired. Tesla shares are up more than 20% this year',\n",
       "  'The Dow is up just shy of 9% this year, while the S&P 500 is up 19%. History suggests investors are over-extended in tech stocks',\n",
       "  'Shares set to fall as much as 20% on weak demand.'],\n",
       " 'AAPL': ['We are aware of the issue and are working to resolve it.',\n",
       "  'The Dow is up just shy of 9% this year, while the S&P 500 is up 19%. History suggests investors are over-extended in tech stocks',\n",
       "  'Study points to rise in ransomware attacks as gangs become more organized. More than 360 million people were affected by attacks in first nine months',\n",
       "  'Top 75 non-banking stocks held an aggregate of nearly $2.0 trillion. Technology sector companies, and ecommerce companies accounted for biggest share of cash pile',\n",
       "  'Carillon Clarivest Capital Appreciation Fund was most underweight in communication and consumer discretionary services.']}"
      ]
     },
     "execution_count": 23,
     "metadata": {},
     "output_type": "execute_result"
    }
   ],
   "source": [
    "summaries"
   ]
  },
  {
   "cell_type": "code",
   "execution_count": 24,
   "id": "67e3a73e-02f5-4c03-bd58-076f2bd439ba",
   "metadata": {},
   "outputs": [
    {
     "data": {
      "text/plain": [
       "{'GME': [{'label': 'POSITIVE', 'score': 0.8374872207641602},\n",
       "  {'label': 'NEGATIVE', 'score': 0.8295697569847107},\n",
       "  {'label': 'NEGATIVE', 'score': 0.999704897403717},\n",
       "  {'label': 'POSITIVE', 'score': 0.9962210655212402},\n",
       "  {'label': 'NEGATIVE', 'score': 0.9859585165977478}],\n",
       " 'TSLA': [{'label': 'NEGATIVE', 'score': 0.685401439666748},\n",
       "  {'label': 'NEGATIVE', 'score': 0.9975034594535828},\n",
       "  {'label': 'NEGATIVE', 'score': 0.9996259212493896}],\n",
       " 'AAPL': [{'label': 'POSITIVE', 'score': 0.9979088306427002},\n",
       "  {'label': 'NEGATIVE', 'score': 0.9975034594535828},\n",
       "  {'label': 'NEGATIVE', 'score': 0.9773145318031311},\n",
       "  {'label': 'NEGATIVE', 'score': 0.9287741184234619},\n",
       "  {'label': 'NEGATIVE', 'score': 0.9976041913032532}]}"
      ]
     },
     "execution_count": 24,
     "metadata": {},
     "output_type": "execute_result"
    }
   ],
   "source": [
    "scores"
   ]
  },
  {
   "cell_type": "code",
   "execution_count": 25,
   "id": "e528a2f5-86c7-428e-8d04-5dcce660468b",
   "metadata": {},
   "outputs": [
    {
     "ename": "NameError",
     "evalue": "name 'cleaned_url' is not defined",
     "output_type": "error",
     "traceback": [
      "\u001b[1;31m---------------------------------------------------------------------------\u001b[0m",
      "\u001b[1;31mNameError\u001b[0m                                 Traceback (most recent call last)",
      "Cell \u001b[1;32mIn[25], line 1\u001b[0m\n\u001b[1;32m----> 1\u001b[0m \u001b[43mcleaned_url\u001b[49m\n",
      "\u001b[1;31mNameError\u001b[0m: name 'cleaned_url' is not defined"
     ]
    }
   ],
   "source": [
    "cleaned_url"
   ]
  },
  {
   "cell_type": "code",
   "execution_count": null,
   "id": "50fa3366-2929-4d96-a655-e1a3af76e148",
   "metadata": {},
   "outputs": [],
   "source": [
    "def create_output_array(summaries, scores, urls):\n",
    "    output = []\n",
    "    for ticker in monitored_tickers:\n",
    "        for counter in range(len(summaries[ticker])):\n",
    "            output_this = [\n",
    "                ticker,\n",
    "                summaries[ticker][counter],\n",
    "                scores[ticker][counter]['label'],\n",
    "                scores[ticker][counter]['score'],\n",
    "                urls[ticker][counter]\n",
    "\n",
    "            ]\n",
    "            output.append(output_this)\n",
    "    return output"
   ]
  },
  {
   "cell_type": "code",
   "execution_count": null,
   "id": "97753403-4a96-45db-876b-10d1328cf90c",
   "metadata": {},
   "outputs": [],
   "source": [
    "final_output = create_output_array(summaries, scores, cleaned_urls)"
   ]
  },
  {
   "cell_type": "code",
   "execution_count": null,
   "id": "354b6890-df5c-4428-be94-e6c8fd178e0a",
   "metadata": {},
   "outputs": [],
   "source": [
    "final_output.insert(0, ['Ticker', 'Summary', 'Label', 'Confidence', 'URL'])"
   ]
  },
  {
   "cell_type": "code",
   "execution_count": null,
   "id": "83ebb131-c3ad-4fba-848e-bf4540eb1793",
   "metadata": {},
   "outputs": [],
   "source": [
    "import csv\n",
    "with open('assetsummaries.csv', mode='w', newline='') as f:\n",
    "    csv_writer = csv.writer(f, delimiter=',', quotechar='\"', quoting = csv.QUOTE_MINIMAL)\n",
    "    csv_writer.writerows(final_output)"
   ]
  },
  {
   "cell_type": "code",
   "execution_count": 26,
   "id": "ede606a8-dd9a-434d-84d6-d433be4ffccc",
   "metadata": {},
   "outputs": [
    {
     "name": "stdout",
     "output_type": "stream",
     "text": [
      "Hugging Face Transformers Cache Directory: C:\\Users\\User\\.cache\\huggingface\n"
     ]
    }
   ],
   "source": [
    "import os\n",
    "\n",
    "cache_directory = os.path.expanduser(\"~/.cache/huggingface\")\n",
    "cache_directory = os.path.abspath(cache_directory)\n",
    "\n",
    "print(\"Hugging Face Transformers Cache Directory:\", cache_directory)\n"
   ]
  },
  {
   "cell_type": "code",
   "execution_count": null,
   "id": "40b33a60-e43d-4168-b84d-088f735c2248",
   "metadata": {},
   "outputs": [],
   "source": []
  }
 ],
 "metadata": {
  "kernelspec": {
   "display_name": "Python 3 (ipykernel)",
   "language": "python",
   "name": "python3"
  },
  "language_info": {
   "codemirror_mode": {
    "name": "ipython",
    "version": 3
   },
   "file_extension": ".py",
   "mimetype": "text/x-python",
   "name": "python",
   "nbconvert_exporter": "python",
   "pygments_lexer": "ipython3",
   "version": "3.8.1"
  }
 },
 "nbformat": 4,
 "nbformat_minor": 5
}
